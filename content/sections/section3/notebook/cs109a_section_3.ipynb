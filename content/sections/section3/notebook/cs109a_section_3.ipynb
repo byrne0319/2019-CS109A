{
 "cells": [
  {
   "cell_type": "markdown",
   "metadata": {},
   "source": [
    "# <img style=\"float: left; padding-right: 10px; width: 45px\" src=\"https://raw.githubusercontent.com/Harvard-IACS/2018-CS109A/master/content/styles/iacs.png\"> CS109A Introduction to Data Science \n",
    "\n",
    "## Standard Section 3: Multiple Linear Regression and Polynomial Regression \n",
    "\n",
    "**Harvard University**<br/>\n",
    "**Fall 2019**<br/>\n",
    "**Instructors**: Pavlos Protopapas, Kevin Rader, and Chris Tanner<br/>\n",
    "**Section Leaders**: Marios Mattheakis, Abhimanyu (Abhi) Vasishth, Robbert (Rob) Struyven<br/>\n",
    "\n",
    "<hr style='height:2px'>"
   ]
  },
  {
   "cell_type": "code",
   "execution_count": 1,
   "metadata": {},
   "outputs": [
    {
     "data": {
      "text/html": [
       "<style>\n",
       "blockquote { background: #AEDE94; }\n",
       "h1 { \n",
       "    padding-top: 25px;\n",
       "    padding-bottom: 25px;\n",
       "    text-align: left; \n",
       "    padding-left: 10px;\n",
       "    background-color: #DDDDDD; \n",
       "    color: black;\n",
       "}\n",
       "h2 { \n",
       "    padding-top: 10px;\n",
       "    padding-bottom: 10px;\n",
       "    text-align: left; \n",
       "    padding-left: 5px;\n",
       "    background-color: #EEEEEE; \n",
       "    color: black;\n",
       "}\n",
       "\n",
       "div.exercise {\n",
       "\tbackground-color: #ffcccc;\n",
       "\tborder-color: #E9967A; \t\n",
       "\tborder-left: 5px solid #800080; \n",
       "\tpadding: 0.5em;\n",
       "}\n",
       "\n",
       "span.sub-q {\n",
       "\tfont-weight: bold;\n",
       "}\n",
       "div.theme {\n",
       "\tbackground-color: #DDDDDD;\n",
       "\tborder-color: #E9967A; \t\n",
       "\tborder-left: 5px solid #800080; \n",
       "\tpadding: 0.5em;\n",
       "\tfont-size: 18pt;\n",
       "}\n",
       "div.gc { \n",
       "\tbackground-color: #AEDE94;\n",
       "\tborder-color: #E9967A; \t \n",
       "\tborder-left: 5px solid #800080; \n",
       "\tpadding: 0.5em;\n",
       "\tfont-size: 12pt;\n",
       "}\n",
       "p.q1 { \n",
       "    padding-top: 5px;\n",
       "    padding-bottom: 5px;\n",
       "    text-align: left; \n",
       "    padding-left: 5px;\n",
       "    background-color: #EEEEEE; \n",
       "    color: black;\n",
       "}\n",
       "header {\n",
       "   padding-top: 35px;\n",
       "    padding-bottom: 35px;\n",
       "    text-align: left; \n",
       "    padding-left: 10px;\n",
       "    background-color: #DDDDDD; \n",
       "    color: black;\n",
       "}\n",
       "</style>\n",
       "\n"
      ],
      "text/plain": [
       "<IPython.core.display.HTML object>"
      ]
     },
     "execution_count": 1,
     "metadata": {},
     "output_type": "execute_result"
    }
   ],
   "source": [
    "#RUN THIS CELL \n",
    "import requests\n",
    "from IPython.core.display import HTML\n",
    "styles = requests.get(\"http://raw.githubusercontent.com/Harvard-IACS/2018-CS109A/master/content/styles/cs109.css\").text\n",
    "HTML(styles)"
   ]
  },
  {
   "cell_type": "markdown",
   "metadata": {},
   "source": [
    "For this section, our goal is to get you familiarized with Multiple Linear Regression. We have learned how to model data with kNN Regression and Simple Linear Regression and our goal now is to dive deep into Linear Regression.\n",
    "\n",
    "Specifically, we will: \n",
    "    \n",
    "- Load in the titanic dataset from seaborn\n",
    "- Learn a few ways to plot **distributions** of variables using seaborn\n",
    "- Learn about different **kinds of variables** including continuous, categorical and ordinal\n",
    "- Perform single and multiple linear regression\n",
    "- Learn about **interaction** terms\n",
    "- Understand how to **interpret coefficients** in linear regression\n",
    "- Look at **polynomial** regression\n",
    "- Understand the **assumptions** being made in a linear regression model\n",
    "- (Extra): look at some cool plots to raise your EDA game"
   ]
  },
  {
   "cell_type": "markdown",
   "metadata": {},
   "source": [
    "![meme](../fig/meme.png)"
   ]
  },
  {
   "cell_type": "code",
   "execution_count": 2,
   "metadata": {},
   "outputs": [],
   "source": [
    "# Data and Stats packages\n",
    "import numpy as np\n",
    "import pandas as pd\n",
    "\n",
    "# Visualization packages\n",
    "import matplotlib.pyplot as plt\n",
    "import seaborn as sns\n",
    "sns.set()"
   ]
  },
  {
   "cell_type": "markdown",
   "metadata": {},
   "source": [
    "# Extending Linear Regression\n",
    "\n",
    "## Working with the Titanic Dataset from Seaborn\n",
    "\n",
    "For our dataset, we'll be using the passenger list from the Titanic, which famously sank in 1912. Let's have a look at the data. Some descriptions of the data are at https://www.kaggle.com/c/titanic/data, and here's [how seaborn preprocessed it](https://github.com/mwaskom/seaborn-data/blob/master/process/titanic.py).\n",
    "\n",
    "The task is to build a regression model to **predict the fare**, based on different attributes.\n",
    "\n",
    "Let's keep a subset of the data, which includes the following variables: \n",
    "\n",
    "- age\n",
    "- sex\n",
    "- class\n",
    "- embark_town\n",
    "- alone\n",
    "- **fare** (the response variable)"
   ]
  },
  {
   "cell_type": "code",
   "execution_count": 3,
   "metadata": {},
   "outputs": [
    {
     "data": {
      "text/html": [
       "<div>\n",
       "<style scoped>\n",
       "    .dataframe tbody tr th:only-of-type {\n",
       "        vertical-align: middle;\n",
       "    }\n",
       "\n",
       "    .dataframe tbody tr th {\n",
       "        vertical-align: top;\n",
       "    }\n",
       "\n",
       "    .dataframe thead th {\n",
       "        text-align: right;\n",
       "    }\n",
       "</style>\n",
       "<table border=\"1\" class=\"dataframe\">\n",
       "  <thead>\n",
       "    <tr style=\"text-align: right;\">\n",
       "      <th></th>\n",
       "      <th>survived</th>\n",
       "      <th>pclass</th>\n",
       "      <th>sex</th>\n",
       "      <th>age</th>\n",
       "      <th>sibsp</th>\n",
       "      <th>parch</th>\n",
       "      <th>fare</th>\n",
       "      <th>embarked</th>\n",
       "      <th>class</th>\n",
       "      <th>who</th>\n",
       "      <th>adult_male</th>\n",
       "      <th>deck</th>\n",
       "      <th>embark_town</th>\n",
       "      <th>alive</th>\n",
       "      <th>alone</th>\n",
       "    </tr>\n",
       "  </thead>\n",
       "  <tbody>\n",
       "    <tr>\n",
       "      <th>0</th>\n",
       "      <td>0</td>\n",
       "      <td>3</td>\n",
       "      <td>male</td>\n",
       "      <td>22.0</td>\n",
       "      <td>1</td>\n",
       "      <td>0</td>\n",
       "      <td>7.2500</td>\n",
       "      <td>S</td>\n",
       "      <td>Third</td>\n",
       "      <td>man</td>\n",
       "      <td>True</td>\n",
       "      <td>NaN</td>\n",
       "      <td>Southampton</td>\n",
       "      <td>no</td>\n",
       "      <td>False</td>\n",
       "    </tr>\n",
       "    <tr>\n",
       "      <th>1</th>\n",
       "      <td>1</td>\n",
       "      <td>1</td>\n",
       "      <td>female</td>\n",
       "      <td>38.0</td>\n",
       "      <td>1</td>\n",
       "      <td>0</td>\n",
       "      <td>71.2833</td>\n",
       "      <td>C</td>\n",
       "      <td>First</td>\n",
       "      <td>woman</td>\n",
       "      <td>False</td>\n",
       "      <td>C</td>\n",
       "      <td>Cherbourg</td>\n",
       "      <td>yes</td>\n",
       "      <td>False</td>\n",
       "    </tr>\n",
       "    <tr>\n",
       "      <th>2</th>\n",
       "      <td>1</td>\n",
       "      <td>3</td>\n",
       "      <td>female</td>\n",
       "      <td>26.0</td>\n",
       "      <td>0</td>\n",
       "      <td>0</td>\n",
       "      <td>7.9250</td>\n",
       "      <td>S</td>\n",
       "      <td>Third</td>\n",
       "      <td>woman</td>\n",
       "      <td>False</td>\n",
       "      <td>NaN</td>\n",
       "      <td>Southampton</td>\n",
       "      <td>yes</td>\n",
       "      <td>True</td>\n",
       "    </tr>\n",
       "    <tr>\n",
       "      <th>3</th>\n",
       "      <td>1</td>\n",
       "      <td>1</td>\n",
       "      <td>female</td>\n",
       "      <td>35.0</td>\n",
       "      <td>1</td>\n",
       "      <td>0</td>\n",
       "      <td>53.1000</td>\n",
       "      <td>S</td>\n",
       "      <td>First</td>\n",
       "      <td>woman</td>\n",
       "      <td>False</td>\n",
       "      <td>C</td>\n",
       "      <td>Southampton</td>\n",
       "      <td>yes</td>\n",
       "      <td>False</td>\n",
       "    </tr>\n",
       "    <tr>\n",
       "      <th>4</th>\n",
       "      <td>0</td>\n",
       "      <td>3</td>\n",
       "      <td>male</td>\n",
       "      <td>35.0</td>\n",
       "      <td>0</td>\n",
       "      <td>0</td>\n",
       "      <td>8.0500</td>\n",
       "      <td>S</td>\n",
       "      <td>Third</td>\n",
       "      <td>man</td>\n",
       "      <td>True</td>\n",
       "      <td>NaN</td>\n",
       "      <td>Southampton</td>\n",
       "      <td>no</td>\n",
       "      <td>True</td>\n",
       "    </tr>\n",
       "  </tbody>\n",
       "</table>\n",
       "</div>"
      ],
      "text/plain": [
       "   survived  pclass     sex   age  sibsp  parch     fare embarked  class  \\\n",
       "0         0       3    male  22.0      1      0   7.2500        S  Third   \n",
       "1         1       1  female  38.0      1      0  71.2833        C  First   \n",
       "2         1       3  female  26.0      0      0   7.9250        S  Third   \n",
       "3         1       1  female  35.0      1      0  53.1000        S  First   \n",
       "4         0       3    male  35.0      0      0   8.0500        S  Third   \n",
       "\n",
       "     who  adult_male deck  embark_town alive  alone  \n",
       "0    man        True  NaN  Southampton    no  False  \n",
       "1  woman       False    C    Cherbourg   yes  False  \n",
       "2  woman       False  NaN  Southampton   yes   True  \n",
       "3  woman       False    C  Southampton   yes  False  \n",
       "4    man        True  NaN  Southampton    no   True  "
      ]
     },
     "execution_count": 3,
     "metadata": {},
     "output_type": "execute_result"
    }
   ],
   "source": [
    "# Load the dataset from seaborn \n",
    "titanic = sns.load_dataset(\"titanic\")\n",
    "titanic.head()"
   ]
  },
  {
   "cell_type": "code",
   "execution_count": 4,
   "metadata": {},
   "outputs": [
    {
     "name": "stdout",
     "output_type": "stream",
     "text": [
      "<class 'pandas.core.frame.DataFrame'>\n",
      "RangeIndex: 891 entries, 0 to 890\n",
      "Data columns (total 6 columns):\n",
      "age            714 non-null float64\n",
      "sex            891 non-null object\n",
      "class          891 non-null category\n",
      "embark_town    889 non-null object\n",
      "alone          891 non-null bool\n",
      "fare           891 non-null float64\n",
      "dtypes: bool(1), category(1), float64(2), object(2)\n",
      "memory usage: 29.8+ KB\n"
     ]
    }
   ],
   "source": [
    "# checking for null values\n",
    "chosen_vars = ['age', 'sex', 'class', 'embark_town', 'alone', 'fare']\n",
    "titanic = titanic[chosen_vars]\n",
    "titanic.info()"
   ]
  },
  {
   "cell_type": "markdown",
   "metadata": {},
   "source": [
    "**Exercise**: check the datatypes of each column and display the statistics (min, max, mean and any others) for all the numerical columns of the dataset."
   ]
  },
  {
   "cell_type": "code",
   "execution_count": 11,
   "metadata": {},
   "outputs": [
    {
     "name": "stdout",
     "output_type": "stream",
     "text": [
      "age             float64\n",
      "sex              object\n",
      "class          category\n",
      "embark_town      object\n",
      "alone              bool\n",
      "fare            float64\n",
      "dtype: object\n"
     ]
    },
    {
     "data": {
      "text/html": [
       "<div>\n",
       "<style scoped>\n",
       "    .dataframe tbody tr th:only-of-type {\n",
       "        vertical-align: middle;\n",
       "    }\n",
       "\n",
       "    .dataframe tbody tr th {\n",
       "        vertical-align: top;\n",
       "    }\n",
       "\n",
       "    .dataframe thead th {\n",
       "        text-align: right;\n",
       "    }\n",
       "</style>\n",
       "<table border=\"1\" class=\"dataframe\">\n",
       "  <thead>\n",
       "    <tr style=\"text-align: right;\">\n",
       "      <th></th>\n",
       "      <th>age</th>\n",
       "      <th>fare</th>\n",
       "    </tr>\n",
       "  </thead>\n",
       "  <tbody>\n",
       "    <tr>\n",
       "      <th>count</th>\n",
       "      <td>714.000000</td>\n",
       "      <td>891.000000</td>\n",
       "    </tr>\n",
       "    <tr>\n",
       "      <th>mean</th>\n",
       "      <td>29.699118</td>\n",
       "      <td>32.204208</td>\n",
       "    </tr>\n",
       "    <tr>\n",
       "      <th>std</th>\n",
       "      <td>14.526497</td>\n",
       "      <td>49.693429</td>\n",
       "    </tr>\n",
       "    <tr>\n",
       "      <th>min</th>\n",
       "      <td>0.420000</td>\n",
       "      <td>0.000000</td>\n",
       "    </tr>\n",
       "    <tr>\n",
       "      <th>25%</th>\n",
       "      <td>20.125000</td>\n",
       "      <td>7.910400</td>\n",
       "    </tr>\n",
       "    <tr>\n",
       "      <th>50%</th>\n",
       "      <td>28.000000</td>\n",
       "      <td>14.454200</td>\n",
       "    </tr>\n",
       "    <tr>\n",
       "      <th>75%</th>\n",
       "      <td>38.000000</td>\n",
       "      <td>31.000000</td>\n",
       "    </tr>\n",
       "    <tr>\n",
       "      <th>max</th>\n",
       "      <td>80.000000</td>\n",
       "      <td>512.329200</td>\n",
       "    </tr>\n",
       "  </tbody>\n",
       "</table>\n",
       "</div>"
      ],
      "text/plain": [
       "              age        fare\n",
       "count  714.000000  891.000000\n",
       "mean    29.699118   32.204208\n",
       "std     14.526497   49.693429\n",
       "min      0.420000    0.000000\n",
       "25%     20.125000    7.910400\n",
       "50%     28.000000   14.454200\n",
       "75%     38.000000   31.000000\n",
       "max     80.000000  512.329200"
      ]
     },
     "execution_count": 11,
     "metadata": {},
     "output_type": "execute_result"
    }
   ],
   "source": [
    "## your code here\n",
    "print(titanic.dtypes)\n",
    "titanic.describe()"
   ]
  },
  {
   "cell_type": "code",
   "execution_count": null,
   "metadata": {},
   "outputs": [],
   "source": [
    "# %load 'solutions/sol1.py'"
   ]
  },
  {
   "cell_type": "markdown",
   "metadata": {},
   "source": [
    "**Exercise**: drop all the non-null *rows* in the dataset. Is this always a good idea?"
   ]
  },
  {
   "cell_type": "code",
   "execution_count": 13,
   "metadata": {},
   "outputs": [
    {
     "name": "stdout",
     "output_type": "stream",
     "text": [
      "<class 'pandas.core.frame.DataFrame'>\n",
      "Int64Index: 712 entries, 0 to 890\n",
      "Data columns (total 6 columns):\n",
      "age            712 non-null float64\n",
      "sex            712 non-null object\n",
      "class          712 non-null category\n",
      "embark_town    712 non-null object\n",
      "alone          712 non-null bool\n",
      "fare           712 non-null float64\n",
      "dtypes: bool(1), category(1), float64(2), object(2)\n",
      "memory usage: 29.3+ KB\n"
     ]
    }
   ],
   "source": [
    "## your code here\n",
    "titanic = titanic.dropna(axis=0)\n",
    "titanic.info()"
   ]
  },
  {
   "cell_type": "code",
   "execution_count": null,
   "metadata": {},
   "outputs": [],
   "source": [
    "# %load 'solutions/sol2.py'"
   ]
  },
  {
   "cell_type": "markdown",
   "metadata": {},
   "source": [
    "Now let us visualize the response variable. A good visualization of the distribution of a variable will enable us to answer three kinds of questions:\n",
    "\n",
    "- What values are central or typical? (e.g., mean, median, modes)\n",
    "- What is the typical spread of values around those central values? (e.g., variance/stdev, skewness)\n",
    "- What are unusual or exceptional values (e.g., outliers)"
   ]
  },
  {
   "cell_type": "code",
   "execution_count": 14,
   "metadata": {},
   "outputs": [
    {
     "data": {
      "image/png": "[encoded data removed]",
      "text/plain": [
       "<Figure size 1728x432 with 3 Axes>"
      ]
     },
     "metadata": {
      "needs_background": "light"
     },
     "output_type": "display_data"
    }
   ],
   "source": [
    "fig, ax = plt.subplots(nrows=1, ncols=3, figsize=(24, 6))\n",
    "ax = ax.ravel()\n",
    "\n",
    "sns.distplot(titanic['fare'], ax=ax[0])\n",
    "ax[0].set_title('Seaborn distplot')\n",
    "ax[0].set_ylabel('Normalized frequencies')\n",
    "\n",
    "sns.violinplot(x='fare', data=titanic, ax=ax[1])\n",
    "ax[1].set_title('Seaborn violin plot')\n",
    "ax[1].set_ylabel('Frequencies')\n",
    "\n",
    "sns.boxplot(x='fare', data=titanic, ax=ax[2])\n",
    "ax[2].set_title('Seaborn box plot')\n",
    "ax[2].set_ylabel('Frequencies')\n",
    "fig.suptitle('Distribution of count');"
   ]
  },
  {
   "cell_type": "markdown",
   "metadata": {},
   "source": [
    "How do we interpret these plots?"
   ]
  },
  {
   "cell_type": "markdown",
   "metadata": {},
   "source": [
    "## Train-Test Split"
   ]
  },
  {
   "cell_type": "code",
   "execution_count": 15,
   "metadata": {},
   "outputs": [
    {
     "name": "stdout",
     "output_type": "stream",
     "text": [
      "(498, 6) (214, 6)\n"
     ]
    }
   ],
   "source": [
    "from sklearn.model_selection import train_test_split\n",
    "\n",
    "titanic_train, titanic_test = train_test_split(titanic, train_size=0.7, random_state=99)\n",
    "titanic_train = titanic_train.copy()\n",
    "titanic_test = titanic_test.copy()\n",
    "print(titanic_train.shape, titanic_test.shape)"
   ]
  },
  {
   "cell_type": "markdown",
   "metadata": {},
   "source": [
    "## Simple one-variable OLS"
   ]
  },
  {
   "cell_type": "markdown",
   "metadata": {},
   "source": [
    "**Exercise**: You've done this before: make a simple model using the OLS package from the statsmodels library predicting **fare** using **age** using the training data. Name your model `model_1` and display the summary"
   ]
  },
  {
   "cell_type": "code",
   "execution_count": 17,
   "metadata": {},
   "outputs": [],
   "source": [
    "from statsmodels.api import OLS\n",
    "import statsmodels.api as sm"
   ]
  },
  {
   "cell_type": "code",
   "execution_count": 18,
   "metadata": {},
   "outputs": [
    {
     "name": "stderr",
     "output_type": "stream",
     "text": [
      "C:\\Users\\byrne\\Anaconda3\\lib\\site-packages\\numpy\\core\\fromnumeric.py:2389: FutureWarning: Method .ptp is deprecated and will be removed in a future version. Use numpy.ptp instead.\n",
      "  return ptp(axis=axis, out=out, **kwargs)\n"
     ]
    },
    {
     "data": {
      "text/html": [
       "<table class=\"simpletable\">\n",
       "<caption>OLS Regression Results</caption>\n",
       "<tr>\n",
       "  <th>Dep. Variable:</th>          <td>fare</td>       <th>  R-squared:         </th> <td>   0.013</td>\n",
       "</tr>\n",
       "<tr>\n",
       "  <th>Model:</th>                   <td>OLS</td>       <th>  Adj. R-squared:    </th> <td>   0.011</td>\n",
       "</tr>\n",
       "<tr>\n",
       "  <th>Method:</th>             <td>Least Squares</td>  <th>  F-statistic:       </th> <td>   6.387</td>\n",
       "</tr>\n",
       "<tr>\n",
       "  <th>Date:</th>             <td>Wed, 02 Oct 2019</td> <th>  Prob (F-statistic):</th>  <td>0.0118</td> \n",
       "</tr>\n",
       "<tr>\n",
       "  <th>Time:</th>                 <td>10:02:59</td>     <th>  Log-Likelihood:    </th> <td> -2707.6</td>\n",
       "</tr>\n",
       "<tr>\n",
       "  <th>No. Observations:</th>      <td>   498</td>      <th>  AIC:               </th> <td>   5419.</td>\n",
       "</tr>\n",
       "<tr>\n",
       "  <th>Df Residuals:</th>          <td>   496</td>      <th>  BIC:               </th> <td>   5428.</td>\n",
       "</tr>\n",
       "<tr>\n",
       "  <th>Df Model:</th>              <td>     1</td>      <th>                     </th>     <td> </td>   \n",
       "</tr>\n",
       "<tr>\n",
       "  <th>Covariance Type:</th>      <td>nonrobust</td>    <th>                     </th>     <td> </td>   \n",
       "</tr>\n",
       "</table>\n",
       "<table class=\"simpletable\">\n",
       "<tr>\n",
       "    <td></td>       <th>coef</th>     <th>std err</th>      <th>t</th>      <th>P>|t|</th>  <th>[0.025</th>    <th>0.975]</th>  \n",
       "</tr>\n",
       "<tr>\n",
       "  <th>const</th> <td>   20.8467</td> <td>    5.825</td> <td>    3.579</td> <td> 0.000</td> <td>    9.401</td> <td>   32.292</td>\n",
       "</tr>\n",
       "<tr>\n",
       "  <th>age</th>   <td>    0.4464</td> <td>    0.177</td> <td>    2.527</td> <td> 0.012</td> <td>    0.099</td> <td>    0.793</td>\n",
       "</tr>\n",
       "</table>\n",
       "<table class=\"simpletable\">\n",
       "<tr>\n",
       "  <th>Omnibus:</th>       <td>534.721</td> <th>  Durbin-Watson:     </th> <td>   1.993</td> \n",
       "</tr>\n",
       "<tr>\n",
       "  <th>Prob(Omnibus):</th> <td> 0.000</td>  <th>  Jarque-Bera (JB):  </th> <td>25194.011</td>\n",
       "</tr>\n",
       "<tr>\n",
       "  <th>Skew:</th>          <td> 4.956</td>  <th>  Prob(JB):          </th> <td>    0.00</td> \n",
       "</tr>\n",
       "<tr>\n",
       "  <th>Kurtosis:</th>      <td>36.405</td>  <th>  Cond. No.          </th> <td>    77.0</td> \n",
       "</tr>\n",
       "</table><br/><br/>Warnings:<br/>[1] Standard Errors assume that the covariance matrix of the errors is correctly specified."
      ],
      "text/plain": [
       "<class 'statsmodels.iolib.summary.Summary'>\n",
       "\"\"\"\n",
       "                            OLS Regression Results                            \n",
       "==============================================================================\n",
       "Dep. Variable:                   fare   R-squared:                       0.013\n",
       "Model:                            OLS   Adj. R-squared:                  0.011\n",
       "Method:                 Least Squares   F-statistic:                     6.387\n",
       "Date:                Wed, 02 Oct 2019   Prob (F-statistic):             0.0118\n",
       "Time:                        10:02:59   Log-Likelihood:                -2707.6\n",
       "No. Observations:                 498   AIC:                             5419.\n",
       "Df Residuals:                     496   BIC:                             5428.\n",
       "Df Model:                           1                                         \n",
       "Covariance Type:            nonrobust                                         \n",
       "==============================================================================\n",
       "                 coef    std err          t      P>|t|      [0.025      0.975]\n",
       "------------------------------------------------------------------------------\n",
       "const         20.8467      5.825      3.579      0.000       9.401      32.292\n",
       "age            0.4464      0.177      2.527      0.012       0.099       0.793\n",
       "==============================================================================\n",
       "Omnibus:                      534.721   Durbin-Watson:                   1.993\n",
       "Prob(Omnibus):                  0.000   Jarque-Bera (JB):            25194.011\n",
       "Skew:                           4.956   Prob(JB):                         0.00\n",
       "Kurtosis:                      36.405   Cond. No.                         77.0\n",
       "==============================================================================\n",
       "\n",
       "Warnings:\n",
       "[1] Standard Errors assume that the covariance matrix of the errors is correctly specified.\n",
       "\"\"\""
      ]
     },
     "execution_count": 18,
     "metadata": {},
     "output_type": "execute_result"
    }
   ],
   "source": [
    "# Your code here\n",
    "age_ca = sm.add_constant(titanic_train['age'])\n",
    "model_1 = OLS(titanic_train['fare'], age_ca).fit()\n",
    "model_1.summary()"
   ]
  },
  {
   "cell_type": "code",
   "execution_count": null,
   "metadata": {},
   "outputs": [],
   "source": [
    "# %load 'solutions/sol3.py'"
   ]
  },
  {
   "cell_type": "markdown",
   "metadata": {},
   "source": [
    "## Dealing with different kinds of variables"
   ]
  },
  {
   "cell_type": "markdown",
   "metadata": {},
   "source": [
    "In general, you should be able to distinguish between three kinds of variables: \n",
    "\n",
    "1. Continuous variables: such as `fare` or `age`\n",
    "2. Categorical variables: such as `sex` or `alone`. There is no inherent ordering between the different values that these variables can take on. These are sometimes called nominal variables. Read more [here](https://stats.idre.ucla.edu/other/mult-pkg/whatstat/what-is-the-difference-between-categorical-ordinal-and-interval-variables/). \n",
    "3. Ordinal variables: such as `class` (first > second > third). There is some inherent ordering of the values in the variables, but the values are not continuous either. \n",
    "\n",
    "*Note*: While there is some inherent ordering in `class`, we will be treating it like a categorical variable."
   ]
  },
  {
   "cell_type": "code",
   "execution_count": 19,
   "metadata": {},
   "outputs": [],
   "source": [
    "titanic_orig = titanic_train.copy()"
   ]
  },
  {
   "cell_type": "markdown",
   "metadata": {},
   "source": [
    "Let us now examine the `sex` column and see the value counts."
   ]
  },
  {
   "cell_type": "code",
   "execution_count": 20,
   "metadata": {},
   "outputs": [
    {
     "data": {
      "text/plain": [
       "male      316\n",
       "female    182\n",
       "Name: sex, dtype: int64"
      ]
     },
     "execution_count": 20,
     "metadata": {},
     "output_type": "execute_result"
    }
   ],
   "source": [
    "titanic_train['sex'].value_counts()"
   ]
  },
  {
   "cell_type": "markdown",
   "metadata": {},
   "source": [
    "**Exercise**: Create a column `sex_male` that is 1 if the passenger is male, 0 if female. The value counts indicate that these are the two options in this particular dataset. Ensure that the datatype is `int`."
   ]
  },
  {
   "cell_type": "code",
   "execution_count": 28,
   "metadata": {},
   "outputs": [
    {
     "data": {
      "text/plain": [
       "1    316\n",
       "0    182\n",
       "Name: sex_male, dtype: int64"
      ]
     },
     "execution_count": 28,
     "metadata": {},
     "output_type": "execute_result"
    }
   ],
   "source": [
    "# your code here\n",
    "titanic_train['sex_male'] = (titanic_train.sex == 'male').astype(int)\n",
    "titanic_train['sex_male'].value_counts()"
   ]
  },
  {
   "cell_type": "code",
   "execution_count": null,
   "metadata": {},
   "outputs": [],
   "source": [
    "# %load 'solutions/sol4.py'"
   ]
  },
  {
   "cell_type": "markdown",
   "metadata": {},
   "source": [
    "Do we need a `sex_female` column, or a `sex_others` column? Why or why not?\n",
    "\n",
    "Now, let us look at `class` in greater detail."
   ]
  },
  {
   "cell_type": "code",
   "execution_count": 29,
   "metadata": {},
   "outputs": [],
   "source": [
    "titanic_train['class_Second'] = (titanic_train['class'] == 'Second').astype(int)\n",
    "titanic_train['class_Third'] = 1 * (titanic_train['class'] == 'Third') # just another way to do it"
   ]
  },
  {
   "cell_type": "code",
   "execution_count": 30,
   "metadata": {},
   "outputs": [
    {
     "name": "stdout",
     "output_type": "stream",
     "text": [
      "<class 'pandas.core.frame.DataFrame'>\n",
      "Int64Index: 498 entries, 278 to 805\n",
      "Data columns (total 9 columns):\n",
      "age             498 non-null float64\n",
      "sex             498 non-null object\n",
      "class           498 non-null category\n",
      "embark_town     498 non-null object\n",
      "alone           498 non-null bool\n",
      "fare            498 non-null float64\n",
      "sex_male        498 non-null int32\n",
      "class_Second    498 non-null int32\n",
      "class_Third     498 non-null int32\n",
      "dtypes: bool(1), category(1), float64(2), int32(3), object(2)\n",
      "memory usage: 46.4+ KB\n"
     ]
    }
   ],
   "source": [
    "titanic_train.info()"
   ]
  },
  {
   "cell_type": "code",
   "execution_count": 31,
   "metadata": {},
   "outputs": [
    {
     "data": {
      "text/html": [
       "<div>\n",
       "<style scoped>\n",
       "    .dataframe tbody tr th:only-of-type {\n",
       "        vertical-align: middle;\n",
       "    }\n",
       "\n",
       "    .dataframe tbody tr th {\n",
       "        vertical-align: top;\n",
       "    }\n",
       "\n",
       "    .dataframe thead th {\n",
       "        text-align: right;\n",
       "    }\n",
       "</style>\n",
       "<table border=\"1\" class=\"dataframe\">\n",
       "  <thead>\n",
       "    <tr style=\"text-align: right;\">\n",
       "      <th></th>\n",
       "      <th>age</th>\n",
       "      <th>embark_town</th>\n",
       "      <th>alone</th>\n",
       "      <th>fare</th>\n",
       "      <th>sex_male</th>\n",
       "      <th>class_Second</th>\n",
       "      <th>class_Third</th>\n",
       "      <th>sex_male</th>\n",
       "      <th>class_Second</th>\n",
       "      <th>class_Third</th>\n",
       "    </tr>\n",
       "  </thead>\n",
       "  <tbody>\n",
       "    <tr>\n",
       "      <th>278</th>\n",
       "      <td>7.0</td>\n",
       "      <td>Queenstown</td>\n",
       "      <td>False</td>\n",
       "      <td>29.1250</td>\n",
       "      <td>1</td>\n",
       "      <td>0</td>\n",
       "      <td>1</td>\n",
       "      <td>1</td>\n",
       "      <td>0</td>\n",
       "      <td>1</td>\n",
       "    </tr>\n",
       "    <tr>\n",
       "      <th>177</th>\n",
       "      <td>50.0</td>\n",
       "      <td>Cherbourg</td>\n",
       "      <td>True</td>\n",
       "      <td>28.7125</td>\n",
       "      <td>0</td>\n",
       "      <td>0</td>\n",
       "      <td>0</td>\n",
       "      <td>0</td>\n",
       "      <td>0</td>\n",
       "      <td>0</td>\n",
       "    </tr>\n",
       "    <tr>\n",
       "      <th>438</th>\n",
       "      <td>64.0</td>\n",
       "      <td>Southampton</td>\n",
       "      <td>False</td>\n",
       "      <td>263.0000</td>\n",
       "      <td>1</td>\n",
       "      <td>0</td>\n",
       "      <td>0</td>\n",
       "      <td>1</td>\n",
       "      <td>0</td>\n",
       "      <td>0</td>\n",
       "    </tr>\n",
       "    <tr>\n",
       "      <th>452</th>\n",
       "      <td>30.0</td>\n",
       "      <td>Cherbourg</td>\n",
       "      <td>True</td>\n",
       "      <td>27.7500</td>\n",
       "      <td>1</td>\n",
       "      <td>0</td>\n",
       "      <td>0</td>\n",
       "      <td>1</td>\n",
       "      <td>0</td>\n",
       "      <td>0</td>\n",
       "    </tr>\n",
       "    <tr>\n",
       "      <th>93</th>\n",
       "      <td>26.0</td>\n",
       "      <td>Southampton</td>\n",
       "      <td>False</td>\n",
       "      <td>20.5750</td>\n",
       "      <td>1</td>\n",
       "      <td>0</td>\n",
       "      <td>1</td>\n",
       "      <td>1</td>\n",
       "      <td>0</td>\n",
       "      <td>1</td>\n",
       "    </tr>\n",
       "  </tbody>\n",
       "</table>\n",
       "</div>"
      ],
      "text/plain": [
       "      age  embark_town  alone      fare  sex_male  class_Second  class_Third  \\\n",
       "278   7.0   Queenstown  False   29.1250         1             0            1   \n",
       "177  50.0    Cherbourg   True   28.7125         0             0            0   \n",
       "438  64.0  Southampton  False  263.0000         1             0            0   \n",
       "452  30.0    Cherbourg   True   27.7500         1             0            0   \n",
       "93   26.0  Southampton  False   20.5750         1             0            1   \n",
       "\n",
       "     sex_male  class_Second  class_Third  \n",
       "278         1             0            1  \n",
       "177         0             0            0  \n",
       "438         1             0            0  \n",
       "452         1             0            0  \n",
       "93          1             0            1  "
      ]
     },
     "execution_count": 31,
     "metadata": {},
     "output_type": "execute_result"
    }
   ],
   "source": [
    "# This function automates the above:\n",
    "titanic_train_copy = pd.get_dummies(titanic_train, columns=['sex', 'class'], drop_first=True)\n",
    "titanic_train_copy.head()"
   ]
  },
  {
   "cell_type": "markdown",
   "metadata": {},
   "source": [
    "## Linear Regression with More Variables"
   ]
  },
  {
   "cell_type": "markdown",
   "metadata": {},
   "source": [
    "**Exercise**: Fit a linear regression including the new sex and class variables. Name this model `model_2`. Don't forget the constant!"
   ]
  },
  {
   "cell_type": "code",
   "execution_count": 32,
   "metadata": {},
   "outputs": [
    {
     "data": {
      "text/html": [
       "<table class=\"simpletable\">\n",
       "<caption>OLS Regression Results</caption>\n",
       "<tr>\n",
       "  <th>Dep. Variable:</th>          <td>fare</td>       <th>  R-squared:         </th> <td>   0.387</td>\n",
       "</tr>\n",
       "<tr>\n",
       "  <th>Model:</th>                   <td>OLS</td>       <th>  Adj. R-squared:    </th> <td>   0.382</td>\n",
       "</tr>\n",
       "<tr>\n",
       "  <th>Method:</th>             <td>Least Squares</td>  <th>  F-statistic:       </th> <td>   77.68</td>\n",
       "</tr>\n",
       "<tr>\n",
       "  <th>Date:</th>             <td>Wed, 02 Oct 2019</td> <th>  Prob (F-statistic):</th> <td>4.62e-51</td>\n",
       "</tr>\n",
       "<tr>\n",
       "  <th>Time:</th>                 <td>10:14:14</td>     <th>  Log-Likelihood:    </th> <td> -2589.1</td>\n",
       "</tr>\n",
       "<tr>\n",
       "  <th>No. Observations:</th>      <td>   498</td>      <th>  AIC:               </th> <td>   5188.</td>\n",
       "</tr>\n",
       "<tr>\n",
       "  <th>Df Residuals:</th>          <td>   493</td>      <th>  BIC:               </th> <td>   5209.</td>\n",
       "</tr>\n",
       "<tr>\n",
       "  <th>Df Model:</th>              <td>     4</td>      <th>                     </th>     <td> </td>   \n",
       "</tr>\n",
       "<tr>\n",
       "  <th>Covariance Type:</th>      <td>nonrobust</td>    <th>                     </th>     <td> </td>   \n",
       "</tr>\n",
       "</table>\n",
       "<table class=\"simpletable\">\n",
       "<tr>\n",
       "        <td></td>          <th>coef</th>     <th>std err</th>      <th>t</th>      <th>P>|t|</th>  <th>[0.025</th>    <th>0.975]</th>  \n",
       "</tr>\n",
       "<tr>\n",
       "  <th>const</th>        <td>  114.8944</td> <td>    7.132</td> <td>   16.109</td> <td> 0.000</td> <td>  100.881</td> <td>  128.908</td>\n",
       "</tr>\n",
       "<tr>\n",
       "  <th>age</th>          <td>   -0.3615</td> <td>    0.152</td> <td>   -2.371</td> <td> 0.018</td> <td>   -0.661</td> <td>   -0.062</td>\n",
       "</tr>\n",
       "<tr>\n",
       "  <th>sex_male</th>     <td>   -8.6374</td> <td>    4.242</td> <td>   -2.036</td> <td> 0.042</td> <td>  -16.972</td> <td>   -0.303</td>\n",
       "</tr>\n",
       "<tr>\n",
       "  <th>class_Second</th> <td>  -77.5803</td> <td>    5.792</td> <td>  -13.395</td> <td> 0.000</td> <td>  -88.960</td> <td>  -66.201</td>\n",
       "</tr>\n",
       "<tr>\n",
       "  <th>class_Third</th>  <td>  -86.7392</td> <td>    5.414</td> <td>  -16.021</td> <td> 0.000</td> <td>  -97.377</td> <td>  -76.101</td>\n",
       "</tr>\n",
       "</table>\n",
       "<table class=\"simpletable\">\n",
       "<tr>\n",
       "  <th>Omnibus:</th>       <td>593.079</td> <th>  Durbin-Watson:     </th> <td>   2.100</td> \n",
       "</tr>\n",
       "<tr>\n",
       "  <th>Prob(Omnibus):</th> <td> 0.000</td>  <th>  Jarque-Bera (JB):  </th> <td>51755.735</td>\n",
       "</tr>\n",
       "<tr>\n",
       "  <th>Skew:</th>          <td> 5.628</td>  <th>  Prob(JB):          </th> <td>    0.00</td> \n",
       "</tr>\n",
       "<tr>\n",
       "  <th>Kurtosis:</th>      <td>51.657</td>  <th>  Cond. No.          </th> <td>    155.</td> \n",
       "</tr>\n",
       "</table><br/><br/>Warnings:<br/>[1] Standard Errors assume that the covariance matrix of the errors is correctly specified."
      ],
      "text/plain": [
       "<class 'statsmodels.iolib.summary.Summary'>\n",
       "\"\"\"\n",
       "                            OLS Regression Results                            \n",
       "==============================================================================\n",
       "Dep. Variable:                   fare   R-squared:                       0.387\n",
       "Model:                            OLS   Adj. R-squared:                  0.382\n",
       "Method:                 Least Squares   F-statistic:                     77.68\n",
       "Date:                Wed, 02 Oct 2019   Prob (F-statistic):           4.62e-51\n",
       "Time:                        10:14:14   Log-Likelihood:                -2589.1\n",
       "No. Observations:                 498   AIC:                             5188.\n",
       "Df Residuals:                     493   BIC:                             5209.\n",
       "Df Model:                           4                                         \n",
       "Covariance Type:            nonrobust                                         \n",
       "================================================================================\n",
       "                   coef    std err          t      P>|t|      [0.025      0.975]\n",
       "--------------------------------------------------------------------------------\n",
       "const          114.8944      7.132     16.109      0.000     100.881     128.908\n",
       "age             -0.3615      0.152     -2.371      0.018      -0.661      -0.062\n",
       "sex_male        -8.6374      4.242     -2.036      0.042     -16.972      -0.303\n",
       "class_Second   -77.5803      5.792    -13.395      0.000     -88.960     -66.201\n",
       "class_Third    -86.7392      5.414    -16.021      0.000     -97.377     -76.101\n",
       "==============================================================================\n",
       "Omnibus:                      593.079   Durbin-Watson:                   2.100\n",
       "Prob(Omnibus):                  0.000   Jarque-Bera (JB):            51755.735\n",
       "Skew:                           5.628   Prob(JB):                         0.00\n",
       "Kurtosis:                      51.657   Cond. No.                         155.\n",
       "==============================================================================\n",
       "\n",
       "Warnings:\n",
       "[1] Standard Errors assume that the covariance matrix of the errors is correctly specified.\n",
       "\"\"\""
      ]
     },
     "execution_count": 32,
     "metadata": {},
     "output_type": "execute_result"
    }
   ],
   "source": [
    "# your code here\n",
    "model_2 = sm.OLS(titanic_train['fare'], \n",
    "                 sm.add_constant(titanic_train[['age', 'sex_male', 'class_Second', 'class_Third']])).fit()\n",
    "model_2.summary()\n"
   ]
  },
  {
   "cell_type": "code",
   "execution_count": null,
   "metadata": {},
   "outputs": [],
   "source": [
    "# %load 'solutions/sol5.py'"
   ]
  },
  {
   "cell_type": "markdown",
   "metadata": {},
   "source": [
    "### Interpreting These Results"
   ]
  },
  {
   "cell_type": "markdown",
   "metadata": {},
   "source": [
    "1. Which of the predictors do you think are important? Why?\n",
    "2. All else equal, what does being male do to the fare?\n",
    "\n",
    "### Going back to the example from class\n",
    "\n",
    "![male_female](../fig/male_female.png)\n",
    "\n",
    "3. What is the interpretation of $\\beta_0$ and $\\beta_1$?"
   ]
  },
  {
   "cell_type": "markdown",
   "metadata": {},
   "source": [
    "## Exploring Interactions"
   ]
  },
  {
   "cell_type": "code",
   "execution_count": 33,
   "metadata": {},
   "outputs": [
    {
     "name": "stderr",
     "output_type": "stream",
     "text": [
      "C:\\Users\\byrne\\Anaconda3\\lib\\site-packages\\seaborn\\regression.py:546: UserWarning: The `size` paramter has been renamed to `height`; please update your code.\n",
      "  warnings.warn(msg, UserWarning)\n"
     ]
    },
    {
     "data": {
      "text/plain": [
       "<seaborn.axisgrid.FacetGrid at 0x228ec4d11d0>"
      ]
     },
     "execution_count": 33,
     "metadata": {},
     "output_type": "execute_result"
    },
    {
     "data": {
      "image/png": "[encoded data removed]",
      "text/plain": [
       "<Figure size 504.85x432 with 1 Axes>"
      ]
     },
     "metadata": {
      "needs_background": "light"
     },
     "output_type": "display_data"
    }
   ],
   "source": [
    "sns.lmplot(x=\"age\", y=\"fare\", hue=\"sex\", data=titanic_train, size=6)"
   ]
  },
  {
   "cell_type": "markdown",
   "metadata": {},
   "source": [
    "The slopes seem to be different for male and female. What does that indicate?\n",
    "\n",
    "Let us now try to add an interaction effect into our model."
   ]
  },
  {
   "cell_type": "code",
   "execution_count": 34,
   "metadata": {},
   "outputs": [
    {
     "data": {
      "text/html": [
       "<table class=\"simpletable\">\n",
       "<caption>OLS Regression Results</caption>\n",
       "<tr>\n",
       "  <th>Dep. Variable:</th>          <td>fare</td>       <th>  R-squared:         </th> <td>   0.392</td>\n",
       "</tr>\n",
       "<tr>\n",
       "  <th>Model:</th>                   <td>OLS</td>       <th>  Adj. R-squared:    </th> <td>   0.386</td>\n",
       "</tr>\n",
       "<tr>\n",
       "  <th>Method:</th>             <td>Least Squares</td>  <th>  F-statistic:       </th> <td>   63.53</td>\n",
       "</tr>\n",
       "<tr>\n",
       "  <th>Date:</th>             <td>Wed, 02 Oct 2019</td> <th>  Prob (F-statistic):</th> <td>4.36e-51</td>\n",
       "</tr>\n",
       "<tr>\n",
       "  <th>Time:</th>                 <td>10:16:41</td>     <th>  Log-Likelihood:    </th> <td> -2586.7</td>\n",
       "</tr>\n",
       "<tr>\n",
       "  <th>No. Observations:</th>      <td>   498</td>      <th>  AIC:               </th> <td>   5185.</td>\n",
       "</tr>\n",
       "<tr>\n",
       "  <th>Df Residuals:</th>          <td>   492</td>      <th>  BIC:               </th> <td>   5211.</td>\n",
       "</tr>\n",
       "<tr>\n",
       "  <th>Df Model:</th>              <td>     5</td>      <th>                     </th>     <td> </td>   \n",
       "</tr>\n",
       "<tr>\n",
       "  <th>Covariance Type:</th>      <td>nonrobust</td>    <th>                     </th>     <td> </td>   \n",
       "</tr>\n",
       "</table>\n",
       "<table class=\"simpletable\">\n",
       "<tr>\n",
       "         <td></td>           <th>coef</th>     <th>std err</th>      <th>t</th>      <th>P>|t|</th>  <th>[0.025</th>    <th>0.975]</th>  \n",
       "</tr>\n",
       "<tr>\n",
       "  <th>const</th>          <td>  103.7450</td> <td>    8.784</td> <td>   11.811</td> <td> 0.000</td> <td>   86.487</td> <td>  121.003</td>\n",
       "</tr>\n",
       "<tr>\n",
       "  <th>age</th>            <td>    0.0530</td> <td>    0.245</td> <td>    0.217</td> <td> 0.829</td> <td>   -0.428</td> <td>    0.534</td>\n",
       "</tr>\n",
       "<tr>\n",
       "  <th>sex_male</th>       <td>    9.5944</td> <td>    9.441</td> <td>    1.016</td> <td> 0.310</td> <td>   -8.955</td> <td>   28.144</td>\n",
       "</tr>\n",
       "<tr>\n",
       "  <th>class_Second</th>   <td>  -77.7996</td> <td>    5.771</td> <td>  -13.481</td> <td> 0.000</td> <td>  -89.139</td> <td>  -66.460</td>\n",
       "</tr>\n",
       "<tr>\n",
       "  <th>class_Third</th>    <td>  -86.8314</td> <td>    5.394</td> <td>  -16.097</td> <td> 0.000</td> <td>  -97.430</td> <td>  -76.232</td>\n",
       "</tr>\n",
       "<tr>\n",
       "  <th>sex_male_X_age</th> <td>   -0.6373</td> <td>    0.295</td> <td>   -2.160</td> <td> 0.031</td> <td>   -1.217</td> <td>   -0.057</td>\n",
       "</tr>\n",
       "</table>\n",
       "<table class=\"simpletable\">\n",
       "<tr>\n",
       "  <th>Omnibus:</th>       <td>596.406</td> <th>  Durbin-Watson:     </th> <td>   2.108</td> \n",
       "</tr>\n",
       "<tr>\n",
       "  <th>Prob(Omnibus):</th> <td> 0.000</td>  <th>  Jarque-Bera (JB):  </th> <td>53218.035</td>\n",
       "</tr>\n",
       "<tr>\n",
       "  <th>Skew:</th>          <td> 5.676</td>  <th>  Prob(JB):          </th> <td>    0.00</td> \n",
       "</tr>\n",
       "<tr>\n",
       "  <th>Kurtosis:</th>      <td>52.355</td>  <th>  Cond. No.          </th> <td>    244.</td> \n",
       "</tr>\n",
       "</table><br/><br/>Warnings:<br/>[1] Standard Errors assume that the covariance matrix of the errors is correctly specified."
      ],
      "text/plain": [
       "<class 'statsmodels.iolib.summary.Summary'>\n",
       "\"\"\"\n",
       "                            OLS Regression Results                            \n",
       "==============================================================================\n",
       "Dep. Variable:                   fare   R-squared:                       0.392\n",
       "Model:                            OLS   Adj. R-squared:                  0.386\n",
       "Method:                 Least Squares   F-statistic:                     63.53\n",
       "Date:                Wed, 02 Oct 2019   Prob (F-statistic):           4.36e-51\n",
       "Time:                        10:16:41   Log-Likelihood:                -2586.7\n",
       "No. Observations:                 498   AIC:                             5185.\n",
       "Df Residuals:                     492   BIC:                             5211.\n",
       "Df Model:                           5                                         \n",
       "Covariance Type:            nonrobust                                         \n",
       "==================================================================================\n",
       "                     coef    std err          t      P>|t|      [0.025      0.975]\n",
       "----------------------------------------------------------------------------------\n",
       "const            103.7450      8.784     11.811      0.000      86.487     121.003\n",
       "age                0.0530      0.245      0.217      0.829      -0.428       0.534\n",
       "sex_male           9.5944      9.441      1.016      0.310      -8.955      28.144\n",
       "class_Second     -77.7996      5.771    -13.481      0.000     -89.139     -66.460\n",
       "class_Third      -86.8314      5.394    -16.097      0.000     -97.430     -76.232\n",
       "sex_male_X_age    -0.6373      0.295     -2.160      0.031      -1.217      -0.057\n",
       "==============================================================================\n",
       "Omnibus:                      596.406   Durbin-Watson:                   2.108\n",
       "Prob(Omnibus):                  0.000   Jarque-Bera (JB):            53218.035\n",
       "Skew:                           5.676   Prob(JB):                         0.00\n",
       "Kurtosis:                      52.355   Cond. No.                         244.\n",
       "==============================================================================\n",
       "\n",
       "Warnings:\n",
       "[1] Standard Errors assume that the covariance matrix of the errors is correctly specified.\n",
       "\"\"\""
      ]
     },
     "execution_count": 34,
     "metadata": {},
     "output_type": "execute_result"
    }
   ],
   "source": [
    "# It seemed like gender interacted with age and class. Can we put that in our model?\n",
    "titanic_train['sex_male_X_age'] = titanic_train['age'] * titanic_train['sex_male']\n",
    "\n",
    "model_3 = sm.OLS(\n",
    "    titanic_train['fare'],\n",
    "    sm.add_constant(titanic_train[['age', 'sex_male', 'class_Second', 'class_Third', 'sex_male_X_age']])\n",
    ").fit()\n",
    "model_3.summary()"
   ]
  },
  {
   "cell_type": "markdown",
   "metadata": {},
   "source": [
    "**What happened to the `age` and `male` terms?**"
   ]
  },
  {
   "cell_type": "code",
   "execution_count": 35,
   "metadata": {},
   "outputs": [
    {
     "data": {
      "text/html": [
       "<table class=\"simpletable\">\n",
       "<caption>OLS Regression Results</caption>\n",
       "<tr>\n",
       "  <th>Dep. Variable:</th>          <td>fare</td>       <th>  R-squared:         </th> <td>   0.402</td>\n",
       "</tr>\n",
       "<tr>\n",
       "  <th>Model:</th>                   <td>OLS</td>       <th>  Adj. R-squared:    </th> <td>   0.393</td>\n",
       "</tr>\n",
       "<tr>\n",
       "  <th>Method:</th>             <td>Least Squares</td>  <th>  F-statistic:       </th> <td>   47.04</td>\n",
       "</tr>\n",
       "<tr>\n",
       "  <th>Date:</th>             <td>Wed, 02 Oct 2019</td> <th>  Prob (F-statistic):</th> <td>6.13e-51</td>\n",
       "</tr>\n",
       "<tr>\n",
       "  <th>Time:</th>                 <td>10:17:06</td>     <th>  Log-Likelihood:    </th> <td> -2582.8</td>\n",
       "</tr>\n",
       "<tr>\n",
       "  <th>No. Observations:</th>      <td>   498</td>      <th>  AIC:               </th> <td>   5182.</td>\n",
       "</tr>\n",
       "<tr>\n",
       "  <th>Df Residuals:</th>          <td>   490</td>      <th>  BIC:               </th> <td>   5215.</td>\n",
       "</tr>\n",
       "<tr>\n",
       "  <th>Df Model:</th>              <td>     7</td>      <th>                     </th>     <td> </td>   \n",
       "</tr>\n",
       "<tr>\n",
       "  <th>Covariance Type:</th>      <td>nonrobust</td>    <th>                     </th>     <td> </td>   \n",
       "</tr>\n",
       "</table>\n",
       "<table class=\"simpletable\">\n",
       "<tr>\n",
       "             <td></td>                <th>coef</th>     <th>std err</th>      <th>t</th>      <th>P>|t|</th>  <th>[0.025</th>    <th>0.975]</th>  \n",
       "</tr>\n",
       "<tr>\n",
       "  <th>const</th>                   <td>  129.6280</td> <td>   12.766</td> <td>   10.154</td> <td> 0.000</td> <td>  104.545</td> <td>  154.711</td>\n",
       "</tr>\n",
       "<tr>\n",
       "  <th>age</th>                     <td>   -0.6343</td> <td>    0.347</td> <td>   -1.827</td> <td> 0.068</td> <td>   -1.317</td> <td>    0.048</td>\n",
       "</tr>\n",
       "<tr>\n",
       "  <th>sex_male</th>                <td>    9.5493</td> <td>    9.386</td> <td>    1.017</td> <td> 0.309</td> <td>   -8.892</td> <td>   27.991</td>\n",
       "</tr>\n",
       "<tr>\n",
       "  <th>class_Second</th>            <td> -109.2283</td> <td>   14.872</td> <td>   -7.344</td> <td> 0.000</td> <td> -138.450</td> <td>  -80.007</td>\n",
       "</tr>\n",
       "<tr>\n",
       "  <th>class_Third</th>             <td> -120.1595</td> <td>   13.266</td> <td>   -9.058</td> <td> 0.000</td> <td> -146.225</td> <td>  -94.094</td>\n",
       "</tr>\n",
       "<tr>\n",
       "  <th>sex_male_X_age</th>          <td>   -0.6169</td> <td>    0.294</td> <td>   -2.102</td> <td> 0.036</td> <td>   -1.194</td> <td>   -0.040</td>\n",
       "</tr>\n",
       "<tr>\n",
       "  <th>sex_male_X_class_Second</th> <td>    0.8600</td> <td>    0.399</td> <td>    2.156</td> <td> 0.032</td> <td>    0.076</td> <td>    1.644</td>\n",
       "</tr>\n",
       "<tr>\n",
       "  <th>sex_male_X_class_Third</th>  <td>    0.9617</td> <td>    0.359</td> <td>    2.682</td> <td> 0.008</td> <td>    0.257</td> <td>    1.666</td>\n",
       "</tr>\n",
       "</table>\n",
       "<table class=\"simpletable\">\n",
       "<tr>\n",
       "  <th>Omnibus:</th>       <td>599.639</td> <th>  Durbin-Watson:     </th> <td>   2.120</td> \n",
       "</tr>\n",
       "<tr>\n",
       "  <th>Prob(Omnibus):</th> <td> 0.000</td>  <th>  Jarque-Bera (JB):  </th> <td>54799.850</td>\n",
       "</tr>\n",
       "<tr>\n",
       "  <th>Skew:</th>          <td> 5.721</td>  <th>  Prob(JB):          </th> <td>    0.00</td> \n",
       "</tr>\n",
       "<tr>\n",
       "  <th>Kurtosis:</th>      <td>53.100</td>  <th>  Cond. No.          </th> <td>    483.</td> \n",
       "</tr>\n",
       "</table><br/><br/>Warnings:<br/>[1] Standard Errors assume that the covariance matrix of the errors is correctly specified."
      ],
      "text/plain": [
       "<class 'statsmodels.iolib.summary.Summary'>\n",
       "\"\"\"\n",
       "                            OLS Regression Results                            \n",
       "==============================================================================\n",
       "Dep. Variable:                   fare   R-squared:                       0.402\n",
       "Model:                            OLS   Adj. R-squared:                  0.393\n",
       "Method:                 Least Squares   F-statistic:                     47.04\n",
       "Date:                Wed, 02 Oct 2019   Prob (F-statistic):           6.13e-51\n",
       "Time:                        10:17:06   Log-Likelihood:                -2582.8\n",
       "No. Observations:                 498   AIC:                             5182.\n",
       "Df Residuals:                     490   BIC:                             5215.\n",
       "Df Model:                           7                                         \n",
       "Covariance Type:            nonrobust                                         \n",
       "===========================================================================================\n",
       "                              coef    std err          t      P>|t|      [0.025      0.975]\n",
       "-------------------------------------------------------------------------------------------\n",
       "const                     129.6280     12.766     10.154      0.000     104.545     154.711\n",
       "age                        -0.6343      0.347     -1.827      0.068      -1.317       0.048\n",
       "sex_male                    9.5493      9.386      1.017      0.309      -8.892      27.991\n",
       "class_Second             -109.2283     14.872     -7.344      0.000    -138.450     -80.007\n",
       "class_Third              -120.1595     13.266     -9.058      0.000    -146.225     -94.094\n",
       "sex_male_X_age             -0.6169      0.294     -2.102      0.036      -1.194      -0.040\n",
       "sex_male_X_class_Second     0.8600      0.399      2.156      0.032       0.076       1.644\n",
       "sex_male_X_class_Third      0.9617      0.359      2.682      0.008       0.257       1.666\n",
       "==============================================================================\n",
       "Omnibus:                      599.639   Durbin-Watson:                   2.120\n",
       "Prob(Omnibus):                  0.000   Jarque-Bera (JB):            54799.850\n",
       "Skew:                           5.721   Prob(JB):                         0.00\n",
       "Kurtosis:                      53.100   Cond. No.                         483.\n",
       "==============================================================================\n",
       "\n",
       "Warnings:\n",
       "[1] Standard Errors assume that the covariance matrix of the errors is correctly specified.\n",
       "\"\"\""
      ]
     },
     "execution_count": 35,
     "metadata": {},
     "output_type": "execute_result"
    }
   ],
   "source": [
    "# It seemed like gender interacted with age and class. Can we put that in our model?\n",
    "titanic_train['sex_male_X_class_Second'] = titanic_train['age'] * titanic_train['class_Second']\n",
    "titanic_train['sex_male_X_class_Third'] = titanic_train['age'] * titanic_train['class_Third']\n",
    "\n",
    "model_4 = sm.OLS(\n",
    "    titanic_train['fare'],\n",
    "    sm.add_constant(titanic_train[['age', 'sex_male', 'class_Second', 'class_Third', 'sex_male_X_age', \n",
    "                             'sex_male_X_class_Second', 'sex_male_X_class_Third']])\n",
    ").fit()\n",
    "model_4.summary()"
   ]
  },
  {
   "cell_type": "markdown",
   "metadata": {},
   "source": [
    "## Polynomial Regression \n",
    "\n",
    "![poly](../fig/poly.png)"
   ]
  },
  {
   "cell_type": "markdown",
   "metadata": {},
   "source": [
    "Perhaps we now believe that the fare also depends on the square of age. How would we include this term in our model?"
   ]
  },
  {
   "cell_type": "code",
   "execution_count": 36,
   "metadata": {},
   "outputs": [
    {
     "data": {
      "image/png": "[encoded data removed]",
      "text/plain": [
       "<Figure size 864x432 with 1 Axes>"
      ]
     },
     "metadata": {
      "needs_background": "light"
     },
     "output_type": "display_data"
    }
   ],
   "source": [
    "fig, ax = plt.subplots(figsize=(12,6))\n",
    "ax.plot(titanic_train['age'], titanic_train['fare'], 'o')\n",
    "x = np.linspace(0,80,100)\n",
    "ax.plot(x, x, '-', label=r'$y=x$')\n",
    "ax.plot(x, 0.04*x**2, '-', label=r'$y=c x^2$')\n",
    "ax.set_title('Plotting Age (x) vs Fare (y)')\n",
    "ax.set_xlabel('Age (x)')\n",
    "ax.set_ylabel('Fare (y)')\n",
    "ax.legend();"
   ]
  },
  {
   "cell_type": "markdown",
   "metadata": {},
   "source": [
    "**Exercise**: Create a model that predicts fare from all the predictors in `model_4` + the square of age. Show the summary of this model. Call it `model_5`. Remember to use the training data, `titanic_train`."
   ]
  },
  {
   "cell_type": "code",
   "execution_count": 37,
   "metadata": {},
   "outputs": [
    {
     "data": {
      "text/html": [
       "<table class=\"simpletable\">\n",
       "<caption>OLS Regression Results</caption>\n",
       "<tr>\n",
       "  <th>Dep. Variable:</th>          <td>fare</td>       <th>  R-squared:         </th> <td>   0.403</td>\n",
       "</tr>\n",
       "<tr>\n",
       "  <th>Model:</th>                   <td>OLS</td>       <th>  Adj. R-squared:    </th> <td>   0.393</td>\n",
       "</tr>\n",
       "<tr>\n",
       "  <th>Method:</th>             <td>Least Squares</td>  <th>  F-statistic:       </th> <td>   41.23</td>\n",
       "</tr>\n",
       "<tr>\n",
       "  <th>Date:</th>             <td>Wed, 02 Oct 2019</td> <th>  Prob (F-statistic):</th> <td>3.04e-50</td>\n",
       "</tr>\n",
       "<tr>\n",
       "  <th>Time:</th>                 <td>10:17:59</td>     <th>  Log-Likelihood:    </th> <td> -2582.4</td>\n",
       "</tr>\n",
       "<tr>\n",
       "  <th>No. Observations:</th>      <td>   498</td>      <th>  AIC:               </th> <td>   5183.</td>\n",
       "</tr>\n",
       "<tr>\n",
       "  <th>Df Residuals:</th>          <td>   489</td>      <th>  BIC:               </th> <td>   5221.</td>\n",
       "</tr>\n",
       "<tr>\n",
       "  <th>Df Model:</th>              <td>     8</td>      <th>                     </th>     <td> </td>   \n",
       "</tr>\n",
       "<tr>\n",
       "  <th>Covariance Type:</th>      <td>nonrobust</td>    <th>                     </th>     <td> </td>   \n",
       "</tr>\n",
       "</table>\n",
       "<table class=\"simpletable\">\n",
       "<tr>\n",
       "             <td></td>                <th>coef</th>     <th>std err</th>      <th>t</th>      <th>P>|t|</th>  <th>[0.025</th>    <th>0.975]</th>  \n",
       "</tr>\n",
       "<tr>\n",
       "  <th>const</th>                   <td>  136.4723</td> <td>   15.037</td> <td>    9.076</td> <td> 0.000</td> <td>  106.928</td> <td>  166.017</td>\n",
       "</tr>\n",
       "<tr>\n",
       "  <th>age</th>                     <td>   -1.0850</td> <td>    0.628</td> <td>   -1.729</td> <td> 0.084</td> <td>   -2.318</td> <td>    0.148</td>\n",
       "</tr>\n",
       "<tr>\n",
       "  <th>sex_male</th>                <td>   11.8545</td> <td>    9.762</td> <td>    1.214</td> <td> 0.225</td> <td>   -7.325</td> <td>   31.034</td>\n",
       "</tr>\n",
       "<tr>\n",
       "  <th>class_Second</th>            <td> -112.2640</td> <td>   15.287</td> <td>   -7.344</td> <td> 0.000</td> <td> -142.301</td> <td>  -82.227</td>\n",
       "</tr>\n",
       "<tr>\n",
       "  <th>class_Third</th>             <td> -123.9552</td> <td>   13.981</td> <td>   -8.866</td> <td> 0.000</td> <td> -151.426</td> <td>  -96.485</td>\n",
       "</tr>\n",
       "<tr>\n",
       "  <th>sex_male_X_age</th>          <td>   -0.6938</td> <td>    0.307</td> <td>   -2.261</td> <td> 0.024</td> <td>   -1.297</td> <td>   -0.091</td>\n",
       "</tr>\n",
       "<tr>\n",
       "  <th>sex_male_X_class_Second</th> <td>    0.9501</td> <td>    0.412</td> <td>    2.304</td> <td> 0.022</td> <td>    0.140</td> <td>    1.760</td>\n",
       "</tr>\n",
       "<tr>\n",
       "  <th>sex_male_X_class_Third</th>  <td>    1.0817</td> <td>    0.385</td> <td>    2.812</td> <td> 0.005</td> <td>    0.326</td> <td>    1.838</td>\n",
       "</tr>\n",
       "<tr>\n",
       "  <th>age^2</th>                   <td>    0.0065</td> <td>    0.008</td> <td>    0.862</td> <td> 0.389</td> <td>   -0.008</td> <td>    0.021</td>\n",
       "</tr>\n",
       "</table>\n",
       "<table class=\"simpletable\">\n",
       "<tr>\n",
       "  <th>Omnibus:</th>       <td>603.373</td> <th>  Durbin-Watson:     </th> <td>   2.123</td> \n",
       "</tr>\n",
       "<tr>\n",
       "  <th>Prob(Omnibus):</th> <td> 0.000</td>  <th>  Jarque-Bera (JB):  </th> <td>56317.736</td>\n",
       "</tr>\n",
       "<tr>\n",
       "  <th>Skew:</th>          <td> 5.777</td>  <th>  Prob(JB):          </th> <td>    0.00</td> \n",
       "</tr>\n",
       "<tr>\n",
       "  <th>Kurtosis:</th>      <td>53.800</td>  <th>  Cond. No.          </th> <td>1.73e+04</td> \n",
       "</tr>\n",
       "</table><br/><br/>Warnings:<br/>[1] Standard Errors assume that the covariance matrix of the errors is correctly specified.<br/>[2] The condition number is large, 1.73e+04. This might indicate that there are<br/>strong multicollinearity or other numerical problems."
      ],
      "text/plain": [
       "<class 'statsmodels.iolib.summary.Summary'>\n",
       "\"\"\"\n",
       "                            OLS Regression Results                            \n",
       "==============================================================================\n",
       "Dep. Variable:                   fare   R-squared:                       0.403\n",
       "Model:                            OLS   Adj. R-squared:                  0.393\n",
       "Method:                 Least Squares   F-statistic:                     41.23\n",
       "Date:                Wed, 02 Oct 2019   Prob (F-statistic):           3.04e-50\n",
       "Time:                        10:17:59   Log-Likelihood:                -2582.4\n",
       "No. Observations:                 498   AIC:                             5183.\n",
       "Df Residuals:                     489   BIC:                             5221.\n",
       "Df Model:                           8                                         \n",
       "Covariance Type:            nonrobust                                         \n",
       "===========================================================================================\n",
       "                              coef    std err          t      P>|t|      [0.025      0.975]\n",
       "-------------------------------------------------------------------------------------------\n",
       "const                     136.4723     15.037      9.076      0.000     106.928     166.017\n",
       "age                        -1.0850      0.628     -1.729      0.084      -2.318       0.148\n",
       "sex_male                   11.8545      9.762      1.214      0.225      -7.325      31.034\n",
       "class_Second             -112.2640     15.287     -7.344      0.000    -142.301     -82.227\n",
       "class_Third              -123.9552     13.981     -8.866      0.000    -151.426     -96.485\n",
       "sex_male_X_age             -0.6938      0.307     -2.261      0.024      -1.297      -0.091\n",
       "sex_male_X_class_Second     0.9501      0.412      2.304      0.022       0.140       1.760\n",
       "sex_male_X_class_Third      1.0817      0.385      2.812      0.005       0.326       1.838\n",
       "age^2                       0.0065      0.008      0.862      0.389      -0.008       0.021\n",
       "==============================================================================\n",
       "Omnibus:                      603.373   Durbin-Watson:                   2.123\n",
       "Prob(Omnibus):                  0.000   Jarque-Bera (JB):            56317.736\n",
       "Skew:                           5.777   Prob(JB):                         0.00\n",
       "Kurtosis:                      53.800   Cond. No.                     1.73e+04\n",
       "==============================================================================\n",
       "\n",
       "Warnings:\n",
       "[1] Standard Errors assume that the covariance matrix of the errors is correctly specified.\n",
       "[2] The condition number is large, 1.73e+04. This might indicate that there are\n",
       "strong multicollinearity or other numerical problems.\n",
       "\"\"\""
      ]
     },
     "execution_count": 37,
     "metadata": {},
     "output_type": "execute_result"
    }
   ],
   "source": [
    "# your code here\n",
    "titanic_train['age^2'] = titanic_train['age'] **2\n",
    "model_5 = sm.OLS(\n",
    "    titanic_train['fare'],\n",
    "    sm.add_constant(titanic_train[['age', 'sex_male', 'class_Second', 'class_Third', 'sex_male_X_age', \n",
    "                             'sex_male_X_class_Second', 'sex_male_X_class_Third', 'age^2']])\n",
    ").fit()\n",
    "model_5.summary()\n"
   ]
  },
  {
   "cell_type": "code",
   "execution_count": null,
   "metadata": {},
   "outputs": [],
   "source": [
    "# %load 'solutions/sol6.py'"
   ]
  },
  {
   "cell_type": "markdown",
   "metadata": {},
   "source": [
    "## Looking at All Our Models: Model Selection"
   ]
  },
  {
   "cell_type": "markdown",
   "metadata": {},
   "source": [
    "What has happened to the $R^2$ as we added more features? Does this mean that the model is better? (What if we kept adding more predictors and interaction terms? **In general, how should we choose a model?** We will spend a lot more time on model selection and learn about ways to do so as the course progresses."
   ]
  },
  {
   "cell_type": "code",
   "execution_count": 38,
   "metadata": {},
   "outputs": [
    {
     "data": {
      "image/png": "[encoded data removed]",
      "text/plain": [
       "<Figure size 864x432 with 1 Axes>"
      ]
     },
     "metadata": {
      "needs_background": "light"
     },
     "output_type": "display_data"
    }
   ],
   "source": [
    "models = [model_1, model_2, model_3, model_4, model_5]\n",
    "fig, ax = plt.subplots(figsize=(12,6))\n",
    "ax.plot([model.df_model for model in models], [model.rsquared for model in models], 'x-')\n",
    "ax.set_xlabel(\"Model degrees of freedom\")\n",
    "ax.set_title('Model degrees of freedom vs training $R^2$')\n",
    "ax.set_ylabel(\"$R^2$\");"
   ]
  },
  {
   "cell_type": "markdown",
   "metadata": {},
   "source": [
    "**What about the test data?**\n",
    "\n",
    "We added a lot of columns to our training data and must add the same to our test data in order to calculate $R^2$ scores."
   ]
  },
  {
   "cell_type": "code",
   "execution_count": 39,
   "metadata": {},
   "outputs": [],
   "source": [
    "# Added features for model 1\n",
    "# Nothing new to be added\n",
    "\n",
    "# Added features for model 2\n",
    "titanic_test = pd.get_dummies(titanic_test, columns=['sex', 'class'], drop_first=True)\n",
    "\n",
    "# Added features for model 3\n",
    "titanic_test['sex_male_X_age'] = titanic_test['age'] * titanic_test['sex_male']\n",
    "\n",
    "# Added features for model 4\n",
    "titanic_test['sex_male_X_class_Second'] = titanic_test['age'] * titanic_test['class_Second']\n",
    "titanic_test['sex_male_X_class_Third'] = titanic_test['age'] * titanic_test['class_Third']\n",
    "\n",
    "# Added features for model 5\n",
    "titanic_test['age^2'] = titanic_test['age'] **2"
   ]
  },
  {
   "cell_type": "markdown",
   "metadata": {},
   "source": [
    "**Calculating R^2 scores**"
   ]
  },
  {
   "cell_type": "code",
   "execution_count": 40,
   "metadata": {},
   "outputs": [
    {
     "data": {
      "image/png": "[encoded data removed]",
      "text/plain": [
       "<Figure size 864x432 with 1 Axes>"
      ]
     },
     "metadata": {
      "needs_background": "light"
     },
     "output_type": "display_data"
    }
   ],
   "source": [
    "from sklearn.metrics import r2_score\n",
    "\n",
    "r2_scores = []\n",
    "y_preds = []\n",
    "y_true = titanic_test['fare']\n",
    "\n",
    "# model 1\n",
    "y_preds.append(model_1.predict(sm.add_constant(titanic_test['age'])))\n",
    "\n",
    "# model 2\n",
    "y_preds.append(model_2.predict(sm.add_constant(titanic_test[['age', 'sex_male', 'class_Second', 'class_Third']])))\n",
    "\n",
    "# model 3\n",
    "y_preds.append(model_3.predict(sm.add_constant(titanic_test[['age', 'sex_male', 'class_Second', 'class_Third', \n",
    "                                                              'sex_male_X_age']])))\n",
    "\n",
    "# model 4\n",
    "y_preds.append(model_4.predict(sm.add_constant(titanic_test[['age', 'sex_male', 'class_Second', 'class_Third', \n",
    "                                                              'sex_male_X_age', 'sex_male_X_class_Second', \n",
    "                                                              'sex_male_X_class_Third']])))\n",
    "\n",
    "# model 5\n",
    "y_preds.append(model_5.predict(sm.add_constant(titanic_test[['age', 'sex_male', 'class_Second', \n",
    "                                                              'class_Third', 'sex_male_X_age', \n",
    "                                                              'sex_male_X_class_Second', \n",
    "                                                              'sex_male_X_class_Third', 'age^2']])))\n",
    "\n",
    "for y_pred in y_preds:\n",
    "    r2_scores.append(r2_score(y_true, y_pred))\n",
    "    \n",
    "models = [model_1, model_2, model_3, model_4, model_5]\n",
    "fig, ax = plt.subplots(figsize=(12,6))\n",
    "ax.plot([model.df_model for model in models], r2_scores, 'x-')\n",
    "ax.set_xlabel(\"Model degrees of freedom\")\n",
    "ax.set_title('Model degrees of freedom vs test $R^2$')\n",
    "ax.set_ylabel(\"$R^2$\");"
   ]
  },
  {
   "cell_type": "markdown",
   "metadata": {},
   "source": [
    "## Regression Assumptions. Should We Even Regress Linearly?"
   ]
  },
  {
   "cell_type": "markdown",
   "metadata": {},
   "source": [
    "![linear regression](../fig/linear_regression.png)"
   ]
  },
  {
   "cell_type": "markdown",
   "metadata": {},
   "source": [
    "**Question**: What are the assumptions of a linear regression model? \n",
    "\n",
    "We find that the answer to this question can be found on closer examimation of $\\epsilon$. What is $\\epsilon$? It is assumed that $\\epsilon$ is normally distributed with a mean of 0 and variance $\\sigma^2$. But what does this tell us?\n",
    "\n",
    "1. Assumption 1: Constant variance of $\\epsilon$ errors. This means that if we plot our **residuals**, which are the differences between the true $Y$ and our predicted $\\hat{Y}$, they should look like they have constant variance and a mean of 0. We will show this in our plots.\n",
    "2. Assumption 2: Independence of $\\epsilon$ errors. This again comes from the distribution of $\\epsilon$ that we decide beforehand.\n",
    "3. Assumption 3: Linearity. This is an implicit assumption as we claim that Y can be modeled through a linear combination of the predictors. **Important Note:** Even though our predictors, for instance $X_2$, can be created by squaring or cubing another variable, we still use them in a linear equation as shown above, which is why polynomial regression is still a linear model.\n",
    "4. Assumption 4: Normality. We assume that the $\\epsilon$ is normally distributed, and we can show this in a histogram of the residuals.\n",
    "\n",
    "**Exercise**: Calculate the residuals for model 5, our most recent model. Optionally, plot and histogram these residuals and check the assumptions of the model."
   ]
  },
  {
   "cell_type": "code",
   "execution_count": null,
   "metadata": {},
   "outputs": [],
   "source": [
    "# your code here\n",
    "\n"
   ]
  },
  {
   "cell_type": "code",
   "execution_count": null,
   "metadata": {},
   "outputs": [],
   "source": [
    "# %load 'solutions/sol7.py'"
   ]
  },
  {
   "cell_type": "markdown",
   "metadata": {},
   "source": [
    "**What can you say about the assumptions of the model?**"
   ]
  },
  {
   "cell_type": "markdown",
   "metadata": {},
   "source": [
    "----------------\n",
    "### End of Standard Section\n",
    "---------------"
   ]
  },
  {
   "cell_type": "markdown",
   "metadata": {},
   "source": [
    "## Extra: Visual exploration of predictors'  correlations\n",
    "\n",
    "The dataset for this problem contains 10 simulated predictors and a response variable. "
   ]
  },
  {
   "cell_type": "code",
   "execution_count": null,
   "metadata": {},
   "outputs": [],
   "source": [
    "# read in the data \n",
    "data = pd.read_csv('../data/dataset3.txt')\n",
    "data.head()"
   ]
  },
  {
   "cell_type": "code",
   "execution_count": null,
   "metadata": {},
   "outputs": [],
   "source": [
    "# this effect can be replicated using the scatter_matrix function in pandas plotting\n",
    "sns.pairplot(data);"
   ]
  },
  {
   "cell_type": "markdown",
   "metadata": {},
   "source": [
    "Predictors x1, x2, x3 seem to be perfectly correlated while predictors x4, x5, x6, x7 seem correlated."
   ]
  },
  {
   "cell_type": "code",
   "execution_count": null,
   "metadata": {},
   "outputs": [],
   "source": [
    "data.corr()"
   ]
  },
  {
   "cell_type": "code",
   "execution_count": null,
   "metadata": {},
   "outputs": [],
   "source": [
    "sns.heatmap(data.corr())"
   ]
  },
  {
   "cell_type": "markdown",
   "metadata": {},
   "source": [
    "## Extra: A Handy Matplotlib Guide"
   ]
  },
  {
   "cell_type": "markdown",
   "metadata": {},
   "source": [
    "![](https://i.imgur.com/XTzSuoR.png)\n",
    "source: http://matplotlib.org/faq/usage_faq.html\n",
    "\n",
    "See also [this](http://matplotlib.org/faq/usage_faq.html) matplotlib tutorial."
   ]
  },
  {
   "cell_type": "markdown",
   "metadata": {},
   "source": [
    "![violin plot](../fig/violin.png)\n",
    "\n",
    "See also [this](https://mode.com/blog/violin-plot-examples) violin plot tutorial."
   ]
  },
  {
   "cell_type": "markdown",
   "metadata": {},
   "source": [
    "---"
   ]
  }
 ],
 "metadata": {
  "kernelspec": {
   "display_name": "Python 3",
   "language": "python",
   "name": "python3"
  },
  "language_info": {
   "codemirror_mode": {
    "name": "ipython",
    "version": 3
   },
   "file_extension": ".py",
   "mimetype": "text/x-python",
   "name": "python",
   "nbconvert_exporter": "python",
   "pygments_lexer": "ipython3",
   "version": "3.7.3"
  }
 },
 "nbformat": 4,
 "nbformat_minor": 2
}
